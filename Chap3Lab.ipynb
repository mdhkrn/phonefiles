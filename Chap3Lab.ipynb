{
 "cells": [
  {
   "cell_type": "code",
   "execution_count": 2,
   "metadata": {},
   "outputs": [],
   "source": [
    "%matplotlib inline\n",
    "\n",
    "import numpy as np\n",
    "import pandas as pd\n",
    "\n",
    "import matplotlib.pyplot as plt\n",
    "import seaborn as sns\n",
    "\n",
    "import statsmodels.api as sm\n",
    "import statsmodels.formula.api as smf\n",
    "from sklearn.linear_model import LinearRegression\n",
    "from sklearn import metrics"
   ]
  },
  {
   "cell_type": "code",
   "execution_count": 3,
   "metadata": {},
   "outputs": [],
   "source": [
    "df = pd.read_csv('Boston.csv')\n",
    "#df['Unnamed: 0']"
   ]
  },
  {
   "cell_type": "code",
   "execution_count": 12,
   "metadata": {},
   "outputs": [
    {
     "name": "stdout",
     "output_type": "stream",
     "text": [
      "                            OLS Regression Results                            \n",
      "==============================================================================\n",
      "Dep. Variable:                   medv   R-squared:                       0.544\n",
      "Model:                            OLS   Adj. R-squared:                  0.543\n",
      "Method:                 Least Squares   F-statistic:                     601.6\n",
      "Date:                Mon, 18 Mar 2019   Prob (F-statistic):           5.08e-88\n",
      "Time:                        11:41:18   Log-Likelihood:                -1641.5\n",
      "No. Observations:                 506   AIC:                             3287.\n",
      "Df Residuals:                     504   BIC:                             3295.\n",
      "Df Model:                           1                                         \n",
      "Covariance Type:            nonrobust                                         \n",
      "=================================================================================================\n",
      "                 coef    std err          t      P>|t| [0.025000000000000001 0.97499999999999998]\n",
      "-------------------------------------------------------------------------------------------------\n",
      "Intercept     34.5538      0.563     61.415      0.000                33.448               35.659\n",
      "lstat         -0.9500      0.039    -24.528      0.000                -1.026               -0.874\n",
      "==============================================================================\n",
      "Omnibus:                      137.043   Durbin-Watson:                   0.892\n",
      "Prob(Omnibus):                  0.000   Jarque-Bera (JB):              291.373\n",
      "Skew:                           1.453   Prob(JB):                     5.36e-64\n",
      "Kurtosis:                       5.319   Cond. No.                         29.7\n",
      "==============================================================================\n",
      "\n",
      "Warnings:\n",
      "[1] Standard Errors assume that the covariance matrix of the errors is correctly specified.\n"
     ]
    }
   ],
   "source": [
    "# Fitting using statsmodels\n",
    "#mod = sm.OLS(df['medv'], df['lstat'])\n",
    "mod = smf.ols(formula='medv ~ lstat', data=df)  #Another way of doing it. \n",
    "lm1 = mod.fit()\n",
    "print(lm1.summary())"
   ]
  },
  {
   "cell_type": "code",
   "execution_count": 6,
   "metadata": {},
   "outputs": [],
   "source": [
    "## Fitting using using skl\n",
    "feature_cols = ['lstat']\n",
    "X = df[feature_cols]\n",
    "y = df['medv']\n",
    "lm2 = LinearRegression().fit(X,y)"
   ]
  },
  {
   "cell_type": "markdown",
   "metadata": {},
   "source": [
    "Obtaining various statistics using skl or sm or both\n",
    "    1. Coefficients\n",
    "    2. Interecept\n",
    "    3. P values of the coefficients\n",
    "    4. Confidence intervals\n",
    "    5. R-Squared\n",
    "    6. Predicted values\n",
    "    7. Residuals\n",
    "It seems like skl does not do well in hypothesis testing. It is giving co-efficient and r2 but not p-values or confidence intervals. "
   ]
  },
  {
   "cell_type": "code",
   "execution_count": 29,
   "metadata": {},
   "outputs": [
    {
     "name": "stdout",
     "output_type": "stream",
     "text": [
      "Intercept    34.553841\n",
      "lstat        -0.950049\n",
      "dtype: float64\n",
      "Intercept : 34.553840879383095\n",
      "Coefficients : [-0.95004935]\n",
      "--------------------------------------------------------------------------------\n",
      "Intercept    3.743081e-236\n",
      "lstat         5.081103e-88\n",
      "dtype: float64\n",
      "                   0          1\n",
      "Intercept  33.448457  35.659225\n",
      "lstat      -1.026148  -0.873951\n",
      "--------------------------------------------------------------------------------\n",
      "R-Squared : 0.54414629758647948\n",
      "Score(R-square) : 0.5441462975864797\n",
      "--------------------------------------------------------------------------------\n",
      "0   -12.948627\n",
      "dtype: float64\n",
      "[-12.94862681]\n",
      "--------------------------------------------------------------------------------\n",
      "Mean of residuals : -5.9288537549465531e-05\n",
      "Mean of residuals : -5.9288537549465531e-05\n",
      "Standard deviation of residuals : 6.2034641314264203\n"
     ]
    }
   ],
   "source": [
    "#Coefficients and intercpet\n",
    "print(lm1.params)\n",
    "print(\"Intercept : {}\".format(lm2.intercept_))\n",
    "print(\"Coefficients : {}\".format(lm2.coef_))\n",
    "#list(zip(feature_cols, lm2.coef_))\n",
    "print('-'*80)    \n",
    "\n",
    "#Pvalues and confidence intervals\n",
    "print(lm1.pvalues)\n",
    "print(lm1.conf_int()) #This gives 90% confidence interval\n",
    "print('-'*80)\n",
    "\n",
    "#R-Squared\n",
    "print(\"R-Squared : {}\".format(lm1.rsquared))\n",
    "print(\"Score(R-square) : {}\".format(lm2.score(X,y)))\n",
    "print('-'*80)\n",
    "\n",
    "#Prediction\n",
    "X_new = pd.DataFrame({'lstat': [50]})\n",
    "print(lm1.predict(X_new))\n",
    "print(lm2.predict(X_new.values))\n",
    "print('-'*80)\n",
    "y_hat1 = lm1.predict(X)\n",
    "r1 = y-y_hat1\n",
    "r1 = np.round(r1, 2)\n",
    "print(\"Mean of residuals : {}\".format(np.mean(r1)))\n",
    "\n",
    "#Residuals\n",
    "y_hat2 = lm2.predict(X)\n",
    "r2 = y-y_hat2\n",
    "r2 = np.round(r2, 2)\n",
    "print(\"Mean of residuals : {}\".format(np.mean(r2)))\n",
    "print(\"Standard deviation of residuals : {}\".format(np.std(r)))"
   ]
  },
  {
   "cell_type": "code",
   "execution_count": 48,
   "metadata": {},
   "outputs": [
    {
     "data": {
      "image/png": "[encoded data removed]",
      "text/plain": [
       "<Figure size 432x288 with 1 Axes>"
      ]
     },
     "metadata": {
      "needs_background": "light"
     },
     "output_type": "display_data"
    },
    {
     "data": {
      "image/png": "[encoded data removed]",
      "text/plain": [
       "<Figure size 432x288 with 1 Axes>"
      ]
     },
     "metadata": {
      "needs_background": "light"
     },
     "output_type": "display_data"
    },
    {
     "name": "stdout",
     "output_type": "stream",
     "text": [
      "27.067451971770126\n",
      "-15.17\n",
      "(array([505], dtype=int32),)\n",
      "505    27.067452\n",
      "dtype: float64\n",
      "505   -15.167452\n",
      "dtype: float64\n"
     ]
    }
   ],
   "source": [
    "## Residual plot using seaborn\n",
    "sns.residplot(df['lstat'], df['medv'])\n",
    "plt.show()\n",
    "\n",
    "## Residual plot manually\n",
    "plt.plot(y_hat1, r1, 'ro')\n",
    "plt.show()\n",
    "\n",
    "print(y_hat1[505])\n",
    "print(r1[505])\n",
    "\n",
    "index = np.where(r1 < -10)\n",
    "print(index)\n",
    "print(lm1.predict(X.iloc[505]))\n",
    "print(y[505] - lm1.predict(X.iloc[505]))"
   ]
  },
  {
   "cell_type": "code",
   "execution_count": null,
   "metadata": {},
   "outputs": [],
   "source": []
  }
 ],
 "metadata": {
  "kernelspec": {
   "display_name": "Python 3",
   "language": "python",
   "name": "python3"
  },
  "language_info": {
   "codemirror_mode": {
    "name": "ipython",
    "version": 3
   },
   "file_extension": ".py",
   "mimetype": "text/x-python",
   "name": "python",
   "nbconvert_exporter": "python",
   "pygments_lexer": "ipython3",
   "version": "3.6.2"
  }
 },
 "nbformat": 4,
 "nbformat_minor": 2
}
