{
 "cells": [
  {
   "cell_type": "code",
   "execution_count": null,
   "metadata": {},
   "outputs": [],
   "source": [
    "## All imports\n",
    "%matplotlib inline\n",
    "\n",
    "import os\n",
    "import numpy as np\n",
    "import pandas as pd\n",
    "import seaborn as sns\n",
    "import matplotlib.pyplot as plt\n",
    "from matplotlib.backends.backend_pdf import PdfPages\n",
    "from mpl_toolkits.mplot3d import Axes3D"
   ]
  },
  {
   "cell_type": "code",
   "execution_count": null,
   "metadata": {
    "scrolled": true
   },
   "outputs": [],
   "source": [
    "#### Basics ####\n",
    "a = np.arange(12).reshape(3,4)\n",
    "print(a)\n",
    "\n",
    "b = np.sqrt(a)\n",
    "print(b)\n",
    "\n",
    "c = np.random.randn(50)\n",
    "print(c)\n",
    "d = c + np.random.normal(50, 0.1, 50)\n",
    "print(d)\n",
    "e = np.corrcoef(c,d)\n",
    "print(e)\n",
    "\n",
    "np.random.seed(1)\n",
    "f = np.random.randn(50)\n",
    "print(f)\n",
    "print(\"Mean : {}\".format(np.mean(f)))\n",
    "print(\"Variance : {}\".format(np.var(f)))\n",
    "print(\"Standard Deviation : {}\".format(np.std(f)))\n"
   ]
  },
  {
   "cell_type": "code",
   "execution_count": null,
   "metadata": {},
   "outputs": [],
   "source": [
    "##### Garphics ######\n",
    "g = np.random.randn(100)\n",
    "h = np.random.randn(100)\n",
    "plt.plot(g,h,'ro')\n",
    "plt.ylabel('Random numbers h')\n",
    "plt.xlabel('Random numbets g')\n",
    "plt.title('My first plot')\n",
    "plt.savefig('mypdf.pdf')\n",
    "plt.savefig('mypng.png')\n",
    "plt.show()\n",
    "\n",
    "\n",
    "y = np.linspace(-np.pi, np.pi, 50)\n",
    "x = y.copy()\n",
    "X, Y = np.meshgrid(x,y)\n",
    "Z = np.cos(Y)/(1+X**2)\n",
    "plt.contour(X,Y,Z)\n",
    "plt.show()\n",
    "\n",
    "\n",
    "x = np.linspace(0,1,50)\n",
    "y = x.copy()\n",
    "X,Y = np.meshgrid(x,y)\n",
    "slope = np.pi/4\n",
    "R = 0.5 - np.sqrt((X-0.5)**2 + (Y-0.5)**2)\n",
    "H = R*np.tan(slope)\n",
    "plt.contour(X,Y,H)\n",
    "plt.show()\n",
    "\n",
    "plt.imshow(H)\n",
    "plt.show()\n",
    "\n",
    "Z = H\n",
    "fig = plt.figure()\n",
    "ax = plt.axes(projection='3d')\n",
    "#ax.contour3D(X,Y,Z)\n",
    "#ax.view_init(10,35) #elevation and Azimuth angle\n",
    "\n",
    "ax.plot_wireframe(X, Y, Z, color='black')\n",
    "ax.set_title('wireframe')\n",
    "\n",
    "ax.plot_surface(X, Y, Z)\n",
    "ax.set_title('surface plot')"
   ]
  },
  {
   "cell_type": "code",
   "execution_count": null,
   "metadata": {},
   "outputs": [],
   "source": [
    "#### Indexing Data ####\n",
    "A = np.arange(1,17).reshape(4,4)\n",
    "print(A)\n",
    "print(A[1,2])\n",
    "print(A[[0,2], :])## Selecting particular elements\n",
    "print(A[0:2, 2:4])"
   ]
  },
  {
   "cell_type": "code",
   "execution_count": 142,
   "metadata": {},
   "outputs": [
    {
     "name": "stdout",
     "output_type": "stream",
     "text": [
      "RangeIndex(start=0, stop=397, step=1)\n",
      "(397, 9)\n",
      "(397, 9)\n",
      "Index(['mpg', 'cylinders', 'displacement', 'horsepower', 'weight',\n",
      "       'acceleration', 'year', 'origin', 'name'],\n",
      "      dtype='object')\n"
     ]
    },
    {
     "data": {
      "text/plain": [
       "5"
      ]
     },
     "execution_count": 142,
     "metadata": {},
     "output_type": "execute_result"
    }
   ],
   "source": [
    "#### Reading data. Pandas ###########\n",
    "if os.name != 'nt':\n",
    "    !pwd\n",
    "path = 'Auto.csv'\n",
    "df = pd.read_csv(path, na_values='?')\n",
    "print(df.index)\n",
    "print(df.shape)\n",
    "print(df.isna().shape)\n",
    "print(df.columns)\n",
    "\n",
    "df[df['mpg'].isna()].shape\n",
    "\n",
    "#Count na's in the whole table column wise\n",
    "df.isna().sum()\n",
    "#Count all na's in the table\n",
    "df.isna().sum().sum()\n"
   ]
  },
  {
   "cell_type": "code",
   "execution_count": null,
   "metadata": {},
   "outputs": [],
   "source": [
    "#### Additional Graphical ###########\n",
    "\n",
    "plt.plot(df['cylinders'], df['mpg'], 'ro') ### Plot by default produces line plot. We used 'ro' here\n",
    "plt.show()\n",
    "plt.scatter(df['cylinders'], df['mpg']) ### using scatter method\n",
    "plt.show()\n",
    "plt.plot('cylinders', 'mpg', 'ro', data=df) ### giving df direclty and mentioning the columns\n",
    "plt.xlabel('Cylinders')\n",
    "plt.ylabel('Miles Per Gallon')\n",
    "plt.title('No.of Cylinders vs Miles per gallon')\n",
    "plt.show()\n",
    "\n",
    "## Box plot\n",
    "mpgs = []\n",
    "cylinders = np.sort(df['cylinders'].unique())\n",
    "for i in cylinders:\n",
    "    a = df.loc[df['cylinders']==i]['mpg']\n",
    "    mpgs.append(a)\n",
    "    \n",
    "plt.boxplot(mpgs, labels=cylinders)\n",
    "plt.show()\n",
    "\n",
    "## Histogram\n",
    "plt.hist(df['mpg'])\n",
    "\n",
    "## Pairwise scatter plots\n",
    "sns.pairplot(df)\n",
    "\n",
    "### Numerical Summaries ######\n",
    "df.describe()"
   ]
  }
 ],
 "metadata": {
  "kernelspec": {
   "display_name": "Python 3",
   "language": "python",
   "name": "python3"
  },
  "language_info": {
   "codemirror_mode": {
    "name": "ipython",
    "version": 3
   },
   "file_extension": ".py",
   "mimetype": "text/x-python",
   "name": "python",
   "nbconvert_exporter": "python",
   "pygments_lexer": "ipython3",
   "version": "3.7.0"
  }
 },
 "nbformat": 4,
 "nbformat_minor": 2
}
