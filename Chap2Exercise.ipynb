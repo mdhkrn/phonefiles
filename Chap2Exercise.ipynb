{
 "cells": [
  {
   "cell_type": "code",
   "execution_count": null,
   "metadata": {},
   "outputs": [],
   "source": [
    "## All imports\n",
    "%matplotlib inline\n",
    "\n",
    "import os\n",
    "import numpy as np\n",
    "import pandas as pd\n",
    "import seaborn as sns\n",
    "import matplotlib.pyplot as plt\n",
    "from mpl_toolkits.mplot3d import Axes3D"
   ]
  },
  {
   "cell_type": "code",
   "execution_count": null,
   "metadata": {},
   "outputs": [],
   "source": [
    "## Exercise on College Dataset\n",
    "path = 'College.csv'\n",
    "df = pd.read_csv(path, na_values='?')\n",
    "df.isna().sum().sum()\n",
    "df.head()\n",
    "\n",
    "#df['Private'] = df['Private'].astype('bool')\n",
    "\n",
    "#Scatter plot of first first 10 columns not counting College\n",
    "sns.pairplot(df.iloc[:, :11])"
   ]
  },
  {
   "cell_type": "code",
   "execution_count": null,
   "metadata": {},
   "outputs": [],
   "source": [
    "# Boxplot of Outstate vs Private\n",
    "outstate = []\n",
    "private = np.sort(df['Private'].unique())\n",
    "for i in private:\n",
    "    a = df.loc[df['Private']==i]['Outstate']\n",
    "    outstate.append(a)\n",
    "plt.boxplot(outstate, labels=private)\n",
    "plt.show()"
   ]
  },
  {
   "cell_type": "code",
   "execution_count": null,
   "metadata": {
    "scrolled": true
   },
   "outputs": [],
   "source": [
    "## Creating an new qualitative variable called Elite. To show the elite schools\n",
    "a = ['Yes' if x>50 else 'No' for x in df['Top10perc']]               #List comprehention to generate lists\n",
    "b = list(map(lambda x: 'Yes' if x>50 else 'No', df['Top10perc']))     # Using map and lambda to generate lists\n",
    "print(a==b)\n",
    "df['Elite'] = a\n",
    "\n",
    "# Boxplot of Outstate vs Elite\n",
    "outstate = []\n",
    "elite = np.sort(df['Elite'].unique())\n",
    "for i in private:\n",
    "    a = df.loc[df['Elite']==i]['Outstate']\n",
    "    outstate.append(a)\n",
    "plt.boxplot(outstate, labels=elite)\n",
    "plt.show()\n",
    "\n"
   ]
  },
  {
   "cell_type": "code",
   "execution_count": null,
   "metadata": {},
   "outputs": [],
   "source": [
    "## Producing histograms for various variables\n",
    "fig, ax = plt.subplots(2,2)\n",
    "ax[0][0].hist(df['Outstate'])\n",
    "ax[0][1].hist(df['Books'])\n",
    "ax[1][0].hist(df['F.Undergrad'])\n",
    "ax[1][1].hist(df['P.Undergrad'])"
   ]
  },
  {
   "cell_type": "code",
   "execution_count": null,
   "metadata": {},
   "outputs": [],
   "source": [
    "### Exercise on Auto Dataset\n",
    "path = 'Auto.csv'\n",
    "df = pd.read_csv(path, na_values='?')\n",
    "print(df.isna().sum().sum())\n",
    "df.head()"
   ]
  },
  {
   "cell_type": "code",
   "execution_count": null,
   "metadata": {},
   "outputs": [],
   "source": [
    "## dropping missing values\n",
    "df = df.dropna()\n",
    "[pd.Series(df[''+column].unique()).count() for column in df.columns] ## Finding the count of unique values in all columns\n",
    "\n",
    "##Range of quantitative variables\n",
    "des = df.describe()\n",
    "des.loc['range'] = des.loc['max'] - des.loc['min']\n",
    "des\n",
    "\n",
    "##Range of a single column\n",
    "rng = df['mpg'].max() - df['mpg'].min()\n",
    "print(rng)\n",
    "\n",
    "## mean and std\n",
    "mean = df.mean()\n",
    "std = df.std()\n",
    "print(std)\n",
    "\n",
    "## Removing 10th through 85th observation\n",
    "#df2 = df[df.index < 10 or df.index > 85]\n",
    "arr = [True if i<10 | i>85 else False for i in df.index] #Using list comprehension \n",
    "arr2 = list(map(lambda i : True if i<10 | i>85 else False, df.index)) #Using map and lambda\n",
    "print(arr == arr2)\n",
    "df2 = df[arr]\n",
    "df2.shape"
   ]
  },
  {
   "cell_type": "code",
   "execution_count": null,
   "metadata": {},
   "outputs": [],
   "source": [
    "sns.pairplot(df)"
   ]
  },
  {
   "cell_type": "code",
   "execution_count": null,
   "metadata": {},
   "outputs": [],
   "source": []
  }
 ],
 "metadata": {
  "kernelspec": {
   "display_name": "Python 3",
   "language": "python",
   "name": "python3"
  },
  "language_info": {
   "codemirror_mode": {
    "name": "ipython",
    "version": 3
   },
   "file_extension": ".py",
   "mimetype": "text/x-python",
   "name": "python",
   "nbconvert_exporter": "python",
   "pygments_lexer": "ipython3",
   "version": "3.7.0"
  }
 },
 "nbformat": 4,
 "nbformat_minor": 2
}
